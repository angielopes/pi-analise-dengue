{
 "cells": [
  {
   "cell_type": "code",
   "execution_count": 1,
   "id": "a8c5e5b6",
   "metadata": {},
   "outputs": [],
   "source": [
    "import json\n",
    "import pandas as pd"
   ]
  },
  {
   "cell_type": "code",
   "execution_count": 4,
   "id": "1ddf8f0e",
   "metadata": {},
   "outputs": [],
   "source": [
    "with open(\"../config/ingestion.json\", \"r\") as open_json:\n",
    "    ingestions = json.load(open_json)"
   ]
  },
  {
   "cell_type": "code",
   "execution_count": null,
   "id": "222e0488",
   "metadata": {},
   "outputs": [],
   "source": [
    "dfs = {}\n",
    "\n",
    "for item in ingestions:\n",
    "    table = item[\"table\"]\n",
    "    path = item[\"path\"]\n",
    "\n",
    "    try:\n",
    "        df= pd.read_csv(path, encoding=\"utf-8\", sep=\";\", nrows=5)\n",
    "        dfs[table] = df\n",
    "        print(f\"Tabela {table} lida.\")\n",
    "    except Exception as e:\n",
    "        print(f\"Erro ao ler a table {table}.\")"
   ]
  },
  {
   "cell_type": "code",
   "execution_count": null,
   "id": "bace379e",
   "metadata": {},
   "outputs": [],
   "source": [
    "df = dfs[\"INMET_2025\"]\n",
    "print(df)"
   ]
  }
 ],
 "metadata": {
  "kernelspec": {
   "display_name": ".conda",
   "language": "python",
   "name": "python3"
  },
  "language_info": {
   "codemirror_mode": {
    "name": "ipython",
    "version": 3
   },
   "file_extension": ".py",
   "mimetype": "text/x-python",
   "name": "python",
   "nbconvert_exporter": "python",
   "pygments_lexer": "ipython3",
   "version": "3.11.11"
  }
 },
 "nbformat": 4,
 "nbformat_minor": 5
}
